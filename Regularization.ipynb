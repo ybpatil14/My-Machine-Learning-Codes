{
 "cells": [
  {
   "cell_type": "code",
   "execution_count": 21,
   "id": "e457cd1d",
   "metadata": {},
   "outputs": [],
   "source": [
    "import pandas as pd\n",
    "\n",
    "from sklearn.model_selection import train_test_split\n",
    "from sklearn.linear_model import LinearRegression, Lasso, Ridge\n",
    "\n",
    "from sklearn.metrics import r2_score"
   ]
  },
  {
   "cell_type": "code",
   "execution_count": 3,
   "id": "011ab6bb",
   "metadata": {},
   "outputs": [],
   "source": [
    "data = pd.read_csv('Data/CarPrice.csv')"
   ]
  },
  {
   "cell_type": "code",
   "execution_count": 5,
   "id": "50470dc0",
   "metadata": {},
   "outputs": [
    {
     "data": {
      "text/plain": [
       "Index(['car_ID', 'symboling', 'CarName', 'fueltype', 'aspiration',\n",
       "       'doornumber', 'carbody', 'drivewheel', 'enginelocation', 'wheelbase',\n",
       "       'carlength', 'carwidth', 'carheight', 'curbweight', 'enginetype',\n",
       "       'cylindernumber', 'enginesize', 'fuelsystem', 'boreratio', 'stroke',\n",
       "       'compressionratio', 'horsepower', 'peakrpm', 'citympg', 'highwaympg',\n",
       "       'price'],\n",
       "      dtype='object')"
      ]
     },
     "execution_count": 5,
     "metadata": {},
     "output_type": "execute_result"
    }
   ],
   "source": [
    "data.columns"
   ]
  },
  {
   "cell_type": "code",
   "execution_count": 7,
   "id": "186edd33",
   "metadata": {},
   "outputs": [],
   "source": [
    "selected_columns = ['horsepower', 'citympg', 'compressionratio', 'fueltype', 'price']\n",
    "df = data[selected_columns]"
   ]
  },
  {
   "cell_type": "code",
   "execution_count": 8,
   "id": "a7e63ad7",
   "metadata": {},
   "outputs": [
    {
     "data": {
      "text/html": [
       "<div>\n",
       "<style scoped>\n",
       "    .dataframe tbody tr th:only-of-type {\n",
       "        vertical-align: middle;\n",
       "    }\n",
       "\n",
       "    .dataframe tbody tr th {\n",
       "        vertical-align: top;\n",
       "    }\n",
       "\n",
       "    .dataframe thead th {\n",
       "        text-align: right;\n",
       "    }\n",
       "</style>\n",
       "<table border=\"1\" class=\"dataframe\">\n",
       "  <thead>\n",
       "    <tr style=\"text-align: right;\">\n",
       "      <th></th>\n",
       "      <th>horsepower</th>\n",
       "      <th>citympg</th>\n",
       "      <th>compressionratio</th>\n",
       "      <th>fueltype</th>\n",
       "      <th>price</th>\n",
       "    </tr>\n",
       "  </thead>\n",
       "  <tbody>\n",
       "    <tr>\n",
       "      <th>0</th>\n",
       "      <td>111</td>\n",
       "      <td>21</td>\n",
       "      <td>9.0</td>\n",
       "      <td>gas</td>\n",
       "      <td>13495.0</td>\n",
       "    </tr>\n",
       "    <tr>\n",
       "      <th>1</th>\n",
       "      <td>111</td>\n",
       "      <td>21</td>\n",
       "      <td>9.0</td>\n",
       "      <td>gas</td>\n",
       "      <td>16500.0</td>\n",
       "    </tr>\n",
       "    <tr>\n",
       "      <th>2</th>\n",
       "      <td>154</td>\n",
       "      <td>19</td>\n",
       "      <td>9.0</td>\n",
       "      <td>gas</td>\n",
       "      <td>16500.0</td>\n",
       "    </tr>\n",
       "  </tbody>\n",
       "</table>\n",
       "</div>"
      ],
      "text/plain": [
       "   horsepower  citympg  compressionratio fueltype    price\n",
       "0         111       21               9.0      gas  13495.0\n",
       "1         111       21               9.0      gas  16500.0\n",
       "2         154       19               9.0      gas  16500.0"
      ]
     },
     "execution_count": 8,
     "metadata": {},
     "output_type": "execute_result"
    }
   ],
   "source": [
    "df.head(3)"
   ]
  },
  {
   "cell_type": "code",
   "execution_count": 9,
   "id": "a9dfecdb",
   "metadata": {},
   "outputs": [
    {
     "data": {
      "text/plain": [
       "horsepower          0\n",
       "citympg             0\n",
       "compressionratio    0\n",
       "fueltype            0\n",
       "price               0\n",
       "dtype: int64"
      ]
     },
     "execution_count": 9,
     "metadata": {},
     "output_type": "execute_result"
    }
   ],
   "source": [
    "df.isna().sum()"
   ]
  },
  {
   "cell_type": "code",
   "execution_count": 10,
   "id": "cc31b4b0",
   "metadata": {},
   "outputs": [
    {
     "data": {
      "text/plain": [
       "gas       185\n",
       "diesel     20\n",
       "Name: fueltype, dtype: int64"
      ]
     },
     "execution_count": 10,
     "metadata": {},
     "output_type": "execute_result"
    }
   ],
   "source": [
    "df.fueltype.value_counts()"
   ]
  },
  {
   "cell_type": "code",
   "execution_count": 12,
   "id": "b5cd6fa5",
   "metadata": {},
   "outputs": [
    {
     "name": "stderr",
     "output_type": "stream",
     "text": [
      "/var/folders/5z/4d_f5svn1b943qv43x1jf6tw0000gn/T/ipykernel_72457/342901069.py:1: SettingWithCopyWarning: \n",
      "A value is trying to be set on a copy of a slice from a DataFrame.\n",
      "Try using .loc[row_indexer,col_indexer] = value instead\n",
      "\n",
      "See the caveats in the documentation: https://pandas.pydata.org/pandas-docs/stable/user_guide/indexing.html#returning-a-view-versus-a-copy\n",
      "  df['fueltype'] = df.fueltype.replace({'gas':1, 'diesel':2})\n"
     ]
    }
   ],
   "source": [
    "df['fueltype'] = df.fueltype.replace({'gas':1, 'diesel':2})"
   ]
  },
  {
   "cell_type": "code",
   "execution_count": 13,
   "id": "545a5431",
   "metadata": {},
   "outputs": [
    {
     "data": {
      "text/html": [
       "<div>\n",
       "<style scoped>\n",
       "    .dataframe tbody tr th:only-of-type {\n",
       "        vertical-align: middle;\n",
       "    }\n",
       "\n",
       "    .dataframe tbody tr th {\n",
       "        vertical-align: top;\n",
       "    }\n",
       "\n",
       "    .dataframe thead th {\n",
       "        text-align: right;\n",
       "    }\n",
       "</style>\n",
       "<table border=\"1\" class=\"dataframe\">\n",
       "  <thead>\n",
       "    <tr style=\"text-align: right;\">\n",
       "      <th></th>\n",
       "      <th>horsepower</th>\n",
       "      <th>citympg</th>\n",
       "      <th>compressionratio</th>\n",
       "      <th>fueltype</th>\n",
       "      <th>price</th>\n",
       "    </tr>\n",
       "  </thead>\n",
       "  <tbody>\n",
       "    <tr>\n",
       "      <th>0</th>\n",
       "      <td>111</td>\n",
       "      <td>21</td>\n",
       "      <td>9.0</td>\n",
       "      <td>1</td>\n",
       "      <td>13495.0</td>\n",
       "    </tr>\n",
       "    <tr>\n",
       "      <th>1</th>\n",
       "      <td>111</td>\n",
       "      <td>21</td>\n",
       "      <td>9.0</td>\n",
       "      <td>1</td>\n",
       "      <td>16500.0</td>\n",
       "    </tr>\n",
       "    <tr>\n",
       "      <th>2</th>\n",
       "      <td>154</td>\n",
       "      <td>19</td>\n",
       "      <td>9.0</td>\n",
       "      <td>1</td>\n",
       "      <td>16500.0</td>\n",
       "    </tr>\n",
       "  </tbody>\n",
       "</table>\n",
       "</div>"
      ],
      "text/plain": [
       "   horsepower  citympg  compressionratio  fueltype    price\n",
       "0         111       21               9.0         1  13495.0\n",
       "1         111       21               9.0         1  16500.0\n",
       "2         154       19               9.0         1  16500.0"
      ]
     },
     "execution_count": 13,
     "metadata": {},
     "output_type": "execute_result"
    }
   ],
   "source": [
    "df.head(3)"
   ]
  },
  {
   "cell_type": "code",
   "execution_count": 17,
   "id": "16844270",
   "metadata": {},
   "outputs": [],
   "source": [
    "x, y = df.drop(columns = ['price']), df[['price']]"
   ]
  },
  {
   "cell_type": "code",
   "execution_count": 18,
   "id": "9548b705",
   "metadata": {},
   "outputs": [
    {
     "data": {
      "text/plain": [
       "(205, 4)"
      ]
     },
     "execution_count": 18,
     "metadata": {},
     "output_type": "execute_result"
    }
   ],
   "source": [
    "x.shape"
   ]
  },
  {
   "cell_type": "code",
   "execution_count": 23,
   "id": "1cda4cc7",
   "metadata": {},
   "outputs": [],
   "source": [
    "x_tr, x_ts, y_tr, y_ts = train_test_split(x,y, test_size = 0.35, random_state=64)"
   ]
  },
  {
   "cell_type": "markdown",
   "id": "5b8bc271",
   "metadata": {},
   "source": [
    "# LinearRegression"
   ]
  },
  {
   "cell_type": "code",
   "execution_count": 24,
   "id": "7b0c8d54",
   "metadata": {},
   "outputs": [
    {
     "data": {
      "text/plain": [
       "0.732721781672701"
      ]
     },
     "execution_count": 24,
     "metadata": {},
     "output_type": "execute_result"
    }
   ],
   "source": [
    "lin_reg = LinearRegression()\n",
    "\n",
    "lin_reg.fit(x_tr, y_tr)\n",
    "\n",
    "y_pred = lin_reg.predict(x_ts)\n",
    "\n",
    "r2_score(y_ts, y_pred)"
   ]
  },
  {
   "cell_type": "code",
   "execution_count": 25,
   "id": "d1253b98",
   "metadata": {},
   "outputs": [
    {
     "data": {
      "text/plain": [
       "array([[  134.50924641,  -302.01458093,   754.78222398, -3360.50739432]])"
      ]
     },
     "execution_count": 25,
     "metadata": {},
     "output_type": "execute_result"
    }
   ],
   "source": [
    "lin_reg.coef_"
   ]
  },
  {
   "cell_type": "markdown",
   "id": "55a043ef",
   "metadata": {},
   "source": [
    "# Ridge Regression"
   ]
  },
  {
   "cell_type": "code",
   "execution_count": 26,
   "id": "cb96a3b6",
   "metadata": {},
   "outputs": [
    {
     "data": {
      "text/plain": [
       "0.7335992647360231"
      ]
     },
     "execution_count": 26,
     "metadata": {},
     "output_type": "execute_result"
    }
   ],
   "source": [
    "ridge_reg = Ridge(alpha = 1.3)\n",
    "\n",
    "ridge_reg.fit(x_tr, y_tr)\n",
    "\n",
    "y_pred_r = ridge_reg.predict(x_ts)\n",
    "\n",
    "r2_score(y_ts, y_pred_r)"
   ]
  },
  {
   "cell_type": "code",
   "execution_count": 27,
   "id": "a2c48a17",
   "metadata": {},
   "outputs": [
    {
     "data": {
      "text/plain": [
       "array([[ 135.2486452 , -289.18857348,  547.68190439, -606.73743057]])"
      ]
     },
     "execution_count": 27,
     "metadata": {},
     "output_type": "execute_result"
    }
   ],
   "source": [
    "ridge_reg.coef_"
   ]
  },
  {
   "cell_type": "markdown",
   "id": "0e73aae2",
   "metadata": {},
   "source": [
    "# Lasso Regression"
   ]
  },
  {
   "cell_type": "code",
   "execution_count": 30,
   "id": "529bfe52",
   "metadata": {},
   "outputs": [
    {
     "data": {
      "text/plain": [
       "0.7337086552598483"
      ]
     },
     "execution_count": 30,
     "metadata": {},
     "output_type": "execute_result"
    }
   ],
   "source": [
    "lasso_reg = Lasso(alpha = 10)\n",
    "\n",
    "lasso_reg.fit(x_tr, y_tr)\n",
    "\n",
    "y_pred_l = lasso_reg.predict(x_ts)\n",
    "\n",
    "r2_score(y_ts, y_pred_l)"
   ]
  },
  {
   "cell_type": "code",
   "execution_count": 31,
   "id": "9fc1174f",
   "metadata": {},
   "outputs": [
    {
     "data": {
      "text/plain": [
       "array([ 135.48769809, -285.73139968,  501.61906409,   -0.        ])"
      ]
     },
     "execution_count": 31,
     "metadata": {},
     "output_type": "execute_result"
    }
   ],
   "source": [
    "lasso_reg.coef_"
   ]
  },
  {
   "cell_type": "markdown",
   "id": "fea6b19d",
   "metadata": {},
   "source": [
    "# Changing the data as per the feature coeff by lasso"
   ]
  },
  {
   "cell_type": "code",
   "execution_count": 32,
   "id": "add53fd2",
   "metadata": {},
   "outputs": [],
   "source": [
    "x, y = df.drop(columns = ['fueltype', 'price']), df[['price']]\n",
    "x_tr, x_ts, y_tr, y_ts = train_test_split(x,y, test_size = 0.35, random_state=64)"
   ]
  },
  {
   "cell_type": "markdown",
   "id": "028d0ee3",
   "metadata": {},
   "source": [
    "# LinearRegression"
   ]
  },
  {
   "cell_type": "code",
   "execution_count": 33,
   "id": "14a73497",
   "metadata": {},
   "outputs": [
    {
     "data": {
      "text/plain": [
       "0.7337635403889695"
      ]
     },
     "execution_count": 33,
     "metadata": {},
     "output_type": "execute_result"
    }
   ],
   "source": [
    "lin_reg = LinearRegression()\n",
    "\n",
    "lin_reg.fit(x_tr, y_tr)\n",
    "\n",
    "y_pred = lin_reg.predict(x_ts)\n",
    "\n",
    "r2_score(y_ts, y_pred)"
   ]
  },
  {
   "cell_type": "code",
   "execution_count": 34,
   "id": "99c73a3e",
   "metadata": {},
   "outputs": [
    {
     "data": {
      "text/plain": [
       "array([[ 135.36632923, -286.80561467,  502.62983345]])"
      ]
     },
     "execution_count": 34,
     "metadata": {},
     "output_type": "execute_result"
    }
   ],
   "source": [
    "lin_reg.coef_"
   ]
  },
  {
   "cell_type": "markdown",
   "id": "1ab49a60",
   "metadata": {},
   "source": [
    "# Ridge Regression"
   ]
  },
  {
   "cell_type": "code",
   "execution_count": 35,
   "id": "4af458a1",
   "metadata": {},
   "outputs": [
    {
     "data": {
      "text/plain": [
       "0.7337369032054581"
      ]
     },
     "execution_count": 35,
     "metadata": {},
     "output_type": "execute_result"
    }
   ],
   "source": [
    "ridge_reg = Ridge(alpha = 1.3)\n",
    "\n",
    "ridge_reg.fit(x_tr, y_tr)\n",
    "\n",
    "y_pred_r = ridge_reg.predict(x_ts)\n",
    "\n",
    "r2_score(y_ts, y_pred_r)"
   ]
  },
  {
   "cell_type": "code",
   "execution_count": 36,
   "id": "1c10c8d8",
   "metadata": {},
   "outputs": [
    {
     "data": {
      "text/plain": [
       "array([[ 135.40236996, -286.45658565,  502.19000646]])"
      ]
     },
     "execution_count": 36,
     "metadata": {},
     "output_type": "execute_result"
    }
   ],
   "source": [
    "ridge_reg.coef_"
   ]
  },
  {
   "cell_type": "markdown",
   "id": "5c3d806d",
   "metadata": {},
   "source": [
    "# Lasso Regression"
   ]
  },
  {
   "cell_type": "code",
   "execution_count": 37,
   "id": "262ee245",
   "metadata": {},
   "outputs": [
    {
     "data": {
      "text/plain": [
       "0.7337086552598484"
      ]
     },
     "execution_count": 37,
     "metadata": {},
     "output_type": "execute_result"
    }
   ],
   "source": [
    "lasso_reg = Lasso(alpha = 10)\n",
    "\n",
    "lasso_reg.fit(x_tr, y_tr)\n",
    "\n",
    "y_pred_l = lasso_reg.predict(x_ts)\n",
    "\n",
    "r2_score(y_ts, y_pred_l)"
   ]
  },
  {
   "cell_type": "code",
   "execution_count": 38,
   "id": "b8fb90c2",
   "metadata": {},
   "outputs": [
    {
     "data": {
      "text/plain": [
       "array([ 135.48769809, -285.73139968,  501.61906409])"
      ]
     },
     "execution_count": 38,
     "metadata": {},
     "output_type": "execute_result"
    }
   ],
   "source": [
    "lasso_reg.coef_"
   ]
  },
  {
   "cell_type": "code",
   "execution_count": null,
   "id": "62342ced",
   "metadata": {},
   "outputs": [],
   "source": []
  }
 ],
 "metadata": {
  "kernelspec": {
   "display_name": "image_scraper",
   "language": "python",
   "name": "image_scraper"
  },
  "language_info": {
   "codemirror_mode": {
    "name": "ipython",
    "version": 3
   },
   "file_extension": ".py",
   "mimetype": "text/x-python",
   "name": "python",
   "nbconvert_exporter": "python",
   "pygments_lexer": "ipython3",
   "version": "3.11.0"
  },
  "toc": {
   "base_numbering": 1,
   "nav_menu": {},
   "number_sections": true,
   "sideBar": true,
   "skip_h1_title": false,
   "title_cell": "Table of Contents",
   "title_sidebar": "Contents",
   "toc_cell": false,
   "toc_position": {},
   "toc_section_display": true,
   "toc_window_display": false
  },
  "varInspector": {
   "cols": {
    "lenName": 16,
    "lenType": 16,
    "lenVar": 40
   },
   "kernels_config": {
    "python": {
     "delete_cmd_postfix": "",
     "delete_cmd_prefix": "del ",
     "library": "var_list.py",
     "varRefreshCmd": "print(var_dic_list())"
    },
    "r": {
     "delete_cmd_postfix": ") ",
     "delete_cmd_prefix": "rm(",
     "library": "var_list.r",
     "varRefreshCmd": "cat(var_dic_list()) "
    }
   },
   "types_to_exclude": [
    "module",
    "function",
    "builtin_function_or_method",
    "instance",
    "_Feature"
   ],
   "window_display": false
  }
 },
 "nbformat": 4,
 "nbformat_minor": 5
}
